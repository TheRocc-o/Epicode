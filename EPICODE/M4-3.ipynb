{
 "cells": [
  {
   "cell_type": "markdown",
   "id": "095fefea-3b92-4b12-b982-a51779ec7f61",
   "metadata": {
    "jp-MarkdownHeadingCollapsed": true,
    "tags": []
   },
   "source": [
    "## Esercizio 1\n",
    "### Stampare ogni carattere della stringa (nome_scuola = \"Epicode\"), uno su ogni riga, utilizzando un costrutto while."
   ]
  },
  {
   "cell_type": "code",
   "execution_count": 7,
   "id": "e6df8fd2-9cc2-4e4e-aa09-851ae306aa5e",
   "metadata": {},
   "outputs": [
    {
     "name": "stdout",
     "output_type": "stream",
     "text": [
      "E\n",
      "p\n",
      "i\n",
      "c\n",
      "o\n",
      "d\n",
      "e\n"
     ]
    }
   ],
   "source": [
    "nome_scuola = \"Epicode\"\n",
    "indice = 0\n",
    "while indice < len(nome_scuola):\n",
    "    carattere_stringa = nome_scuola[indice]\n",
    "    print(carattere_stringa)\n",
    "    indice += 1"
   ]
  },
  {
   "cell_type": "markdown",
   "id": "86ae15fa-58d8-43b7-b9b9-72ad0df94b52",
   "metadata": {
    "jp-MarkdownHeadingCollapsed": true,
    "tags": []
   },
   "source": [
    "## Esercizio 2\n",
    "### Stampare a video tutti i numeri da 0 a 20 utilizzando *while*.\n",
    "Utilizzeremo:\n",
    "1. un ciclo while\n",
    "2. la funzione print ()\n",
    "3. una variabile, che dovrà essere inizializzata\n",
    "4. una procedura di incremento"
   ]
  },
  {
   "cell_type": "code",
   "execution_count": 5,
   "id": "4e8061e3-4358-4a80-b55a-b53bec0be21c",
   "metadata": {},
   "outputs": [
    {
     "name": "stdout",
     "output_type": "stream",
     "text": [
      "0\n",
      "1\n",
      "2\n",
      "3\n",
      "4\n",
      "5\n",
      "6\n",
      "7\n",
      "8\n",
      "9\n",
      "10\n",
      "11\n",
      "12\n",
      "13\n",
      "14\n",
      "15\n",
      "16\n",
      "17\n",
      "18\n",
      "19\n",
      "20\n"
     ]
    }
   ],
   "source": [
    "numero = 0\n",
    "while numero <= 20:\n",
    "    print (numero)\n",
    "    numero += 1"
   ]
  },
  {
   "cell_type": "markdown",
   "id": "e093d469-7121-4e4b-89d7-9350825289e3",
   "metadata": {
    "jp-MarkdownHeadingCollapsed": true,
    "tags": []
   },
   "source": [
    "## Esercizio 3\n",
    "### Calcolare e stampare tutte le prime 10 potenze di 2 utilizzando un ciclo *while*."
   ]
  },
  {
   "cell_type": "code",
   "execution_count": 16,
   "id": "e42104a3-7ac6-4edd-9902-1710eb24620e",
   "metadata": {},
   "outputs": [
    {
     "name": "stdout",
     "output_type": "stream",
     "text": [
      "1\n",
      "2\n",
      "4\n",
      "8\n",
      "16\n",
      "32\n",
      "64\n",
      "128\n",
      "256\n",
      "512\n"
     ]
    }
   ],
   "source": [
    "potenza = 1\n",
    "conteggio = 0\n",
    "\n",
    "while conteggio < 10:\n",
    "    print(potenza)\n",
    "    potenza *= 2\n",
    "    conteggio += 1"
   ]
  },
  {
   "cell_type": "markdown",
   "id": "fc516cf9-3f2a-431a-9340-a3fd0dcad368",
   "metadata": {
    "jp-MarkdownHeadingCollapsed": true,
    "tags": []
   },
   "source": [
    "## Esercizio 4\n",
    "### Calcolare e stampare tutte le prime N potenze di 2 utilizzando un ciclo *while*, domandando all'utente di inserire N."
   ]
  },
  {
   "cell_type": "code",
   "execution_count": 1,
   "id": "9d720c37-ee75-4b58-abcb-972bf896006d",
   "metadata": {},
   "outputs": [
    {
     "name": "stdin",
     "output_type": "stream",
     "text": [
      "inserire quante N volte:  10\n"
     ]
    },
    {
     "name": "stdout",
     "output_type": "stream",
     "text": [
      "1\n",
      "2\n",
      "4\n",
      "8\n",
      "16\n",
      "32\n",
      "64\n",
      "128\n",
      "256\n",
      "512\n"
     ]
    }
   ],
   "source": [
    "potenza = 1\n",
    "conteggio = 0\n",
    "N = float( input (\"inserire quante N volte: \") )\n",
    "\n",
    "while conteggio < N:\n",
    "    print(potenza)\n",
    "    potenza *= 2\n",
    "    conteggio += 1"
   ]
  },
  {
   "cell_type": "markdown",
   "id": "887355f1-8f1e-4671-85a8-bf6f67e04585",
   "metadata": {
    "jp-MarkdownHeadingCollapsed": true,
    "tags": []
   },
   "source": [
    "## Esercizio 5\n",
    "### Abbiamo due liste, una di studenti e una di corsi, verificare che entrambe le liste abbiano la stessa lunghezza, e stampare a video una frase che ci dica se è così o meno."
   ]
  },
  {
   "cell_type": "code",
   "execution_count": 27,
   "id": "45c5f20b-a070-4056-8eab-b5f8da53f601",
   "metadata": {},
   "outputs": [
    {
     "name": "stdout",
     "output_type": "stream",
     "text": [
      "No, purtroppo hanno lunghezze differenti\n"
     ]
    }
   ],
   "source": [
    "studenti = [\"Alex\", \"Bob\", \"Cindy\", \"Dan\", \"Emma\", \"Faith\", \"Grace\", \"Henry\"]\n",
    "corsi = [\"Cibersecurity\", \"Data Analyst\", \"Backend\", \"Frontend\", \"Data Analyst\", \"Backend\", \"Frontend\"]\n",
    "\n",
    "if len(studenti) == len(corsi):\n",
    "    print (\"Si, le liste hanno la stessa lunghezza!\")\n",
    "else:\n",
    "    print (\"No, purtroppo hanno lunghezze differenti\")\n"
   ]
  },
  {
   "cell_type": "markdown",
   "id": "ccca8df4-b355-4aa6-9d27-24efaabddf31",
   "metadata": {
    "jp-MarkdownHeadingCollapsed": true,
    "tags": []
   },
   "source": [
    "## Esercizio 6\n",
    "### Abbiamo due liste, una di studenti e una di corsi, aggiungere i dati mancanti alla lista corsi sapendo che\n",
    "* Emma segue Data Analyst\n",
    "* Faith segue Backend\n",
    "* Grace segue Frontend\n",
    "* Henry segue Cyber security\n",
    "### Aggiungiamo i dati mancanti uno alla volta con il metodo per appendere in coda alle liste, poi verificheremo che sono della stessa lunghezza e se lo sono stamperemo la lista *corsi*."
   ]
  },
  {
   "cell_type": "code",
   "execution_count": 2,
   "id": "e971ec14-453d-4326-a792-798a41c8fec7",
   "metadata": {},
   "outputs": [
    {
     "name": "stdout",
     "output_type": "stream",
     "text": [
      "['Cybersecurity', 'Data Analyst', 'Backend', 'Frontend', 'Data Analyst', 'Backend', 'Frontend', 'Cybersecurity']\n"
     ]
    }
   ],
   "source": [
    "studenti = [\"Alex\", \"Bob\", \"Cindy\", \"Dan\", \"Emma\", \"Faith\", \"Grace\", \"Henry\"]\n",
    "corsi = [\"Cybersecurity\", \"Data Analyst\", \"Backend\", \"Frontend\", \"Data Analyst\", \"Backend\"]\n",
    "\n",
    "corsi.append (\"Frontend\")\n",
    "corsi.append (\"Cybersecurity\")\n",
    "\n",
    "if len(studenti) == len(corsi):\n",
    "    print (corsi)\n",
    "else:\n",
    "    print (\"le liste hanno lunghezze differenti\")"
   ]
  },
  {
   "cell_type": "markdown",
   "id": "e827e4b3-1f37-46c1-84da-2cf1b2dc17eb",
   "metadata": {
    "jp-MarkdownHeadingCollapsed": true,
    "tags": []
   },
   "source": [
    "## Esercizio 7\n",
    "### Scriviamo un programma che chiede in input all'utente una stringa e visualizza i primi 3 caratteri, seguiti da 3 punti di sospensione e quindi gli ultimi 3 caratteri.\n",
    "### Attenzione a tutti i casi particolari, ovvero implementare soluzioni ad _hoc_ per stringhe di lunghezza inferiore a 6 caratteri."
   ]
  },
  {
   "cell_type": "code",
   "execution_count": 6,
   "id": "22ceac87-1098-4e94-880c-184d391c317e",
   "metadata": {},
   "outputs": [
    {
     "name": "stdin",
     "output_type": "stream",
     "text": [
      "inserire un testo:  ciao\n"
     ]
    },
    {
     "name": "stdout",
     "output_type": "stream",
     "text": [
      "La tua parola, non rispetta i requisiti minimi\n"
     ]
    }
   ],
   "source": [
    "input_utente = input (\"inserire un testo: \")\n",
    "output = input_utente[:3] + \"...\" + input_utente [-3:]\n",
    "lunghezza_minima = 6\n",
    "if len(input_utente) < lunghezza_minima:\n",
    "    print (\"La tua parola, non rispetta i requisiti minimi\")\n",
    "else: print(output)"
   ]
  },
  {
   "cell_type": "markdown",
   "id": "7f695ac8-d786-45c6-9971-2903ca8c38db",
   "metadata": {
    "jp-MarkdownHeadingCollapsed": true,
    "tags": []
   },
   "source": [
    "## Esercizio 8\n",
    "### Memorizza e stampa tutti i fattori di un numero dato in input"
   ]
  },
  {
   "cell_type": "code",
   "execution_count": 7,
   "id": "d5c48297-1e20-4f28-8b4b-d2df384fe730",
   "metadata": {},
   "outputs": [
    {
     "name": "stdin",
     "output_type": "stream",
     "text": [
      "Inserisci un numero :  25\n"
     ]
    },
    {
     "name": "stdout",
     "output_type": "stream",
     "text": [
      "[5, 5]\n"
     ]
    }
   ],
   "source": [
    "numero = int( input(\"Inserisci un numero : \"))\n",
    "fattori = list()\n",
    "divisore = 2\n",
    "while numero > 1:\n",
    "    while numero % divisore == 0:\n",
    "        numero /= divisore\n",
    "        fattori.append(divisore)    \n",
    "    divisore += 1\n",
    "print(fattori)"
   ]
  }
 ],
 "metadata": {
  "kernelspec": {
   "display_name": "Python 3 (ipykernel)",
   "language": "python",
   "name": "python3"
  },
  "language_info": {
   "codemirror_mode": {
    "name": "ipython",
    "version": 3
   },
   "file_extension": ".py",
   "mimetype": "text/x-python",
   "name": "python",
   "nbconvert_exporter": "python",
   "pygments_lexer": "ipython3",
   "version": "3.10.9"
  }
 },
 "nbformat": 4,
 "nbformat_minor": 5
}
