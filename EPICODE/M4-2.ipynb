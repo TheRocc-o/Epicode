{
 "cells": [
  {
   "cell_type": "code",
   "execution_count": 36,
   "id": "93ffb3e0-9870-4782-8748-d0d95333195e",
   "metadata": {},
   "outputs": [],
   "source": [
    "nome_scuola = 'Epicode' #esercizio 1"
   ]
  },
  {
   "cell_type": "code",
   "execution_count": 2,
   "id": "2f1ba3ab-a0c2-4079-a768-a47005f88a8d",
   "metadata": {},
   "outputs": [
    {
     "name": "stdout",
     "output_type": "stream",
     "text": [
      "Epicode\n"
     ]
    }
   ],
   "source": [
    "print (nome_scuola)"
   ]
  },
  {
   "cell_type": "code",
   "execution_count": 37,
   "id": "3115f2a4-0980-425f-9c7f-3d013e9cfa32",
   "metadata": {},
   "outputs": [
    {
     "data": {
      "text/plain": [
       "'E'"
      ]
     },
     "execution_count": 37,
     "metadata": {},
     "output_type": "execute_result"
    }
   ],
   "source": [
    "nome_scuola[0] #esercizio 2"
   ]
  },
  {
   "cell_type": "code",
   "execution_count": 38,
   "id": "d76db28c-030b-4eef-a224-fa87046df3ac",
   "metadata": {},
   "outputs": [
    {
     "data": {
      "text/plain": [
       "'Epi'"
      ]
     },
     "execution_count": 38,
     "metadata": {},
     "output_type": "execute_result"
    }
   ],
   "source": [
    "nome_scuola[:3] #esercizio 3"
   ]
  },
  {
   "cell_type": "code",
   "execution_count": 39,
   "id": "1afb3683-60f6-46c1-a848-6ab03a435daf",
   "metadata": {},
   "outputs": [
    {
     "data": {
      "text/plain": [
       "'EPICODE'"
      ]
     },
     "execution_count": 39,
     "metadata": {},
     "output_type": "execute_result"
    }
   ],
   "source": [
    "nome_scuola.upper() #esercizio 4"
   ]
  },
  {
   "cell_type": "code",
   "execution_count": 40,
   "id": "3f4edbdc-9dd6-493e-a747-17c56346b5df",
   "metadata": {},
   "outputs": [],
   "source": [
    "x = 10 #esercizio 5"
   ]
  },
  {
   "cell_type": "code",
   "execution_count": 41,
   "id": "b7869de6-d2fd-46a3-bc17-92072faaa952",
   "metadata": {},
   "outputs": [],
   "source": [
    "x += 2"
   ]
  },
  {
   "cell_type": "code",
   "execution_count": 42,
   "id": "8bd7840b-20ac-4b45-b000-4461ec36a6a0",
   "metadata": {},
   "outputs": [],
   "source": [
    "x = (x*3)"
   ]
  },
  {
   "cell_type": "code",
   "execution_count": null,
   "id": "9d1a54b2-9c18-4cc1-9799-3080e02ae11a",
   "metadata": {},
   "outputs": [],
   "source": [
    "# x = (x + 2)*3 "
   ]
  },
  {
   "cell_type": "code",
   "execution_count": 43,
   "id": "2cf22ce7-94fa-4f15-b2de-fc78cc3e9719",
   "metadata": {},
   "outputs": [
    {
     "name": "stdout",
     "output_type": "stream",
     "text": [
      "36\n"
     ]
    }
   ],
   "source": [
    "print (x)"
   ]
  },
  {
   "cell_type": "code",
   "execution_count": 44,
   "id": "df9dfe87-2d35-412e-859e-6cb9efdc0e94",
   "metadata": {},
   "outputs": [
    {
     "name": "stdin",
     "output_type": "stream",
     "text": [
      "Quanti litri di benzina ci sono nel serbatorio? 40\n"
     ]
    }
   ],
   "source": [
    "litri_di_benzina_nel_serbatio = int(input(\"Quanti litri di benzina ci sono nel serbatorio?\")) #esercizio 6"
   ]
  },
  {
   "cell_type": "code",
   "execution_count": 28,
   "id": "3a5f23a0-9f8d-407b-9e8b-7d79bff80619",
   "metadata": {},
   "outputs": [
    {
     "name": "stdin",
     "output_type": "stream",
     "text": [
      "Quant'è l'efficienza in km per litro? 12\n"
     ]
    }
   ],
   "source": [
    "efficienza = int(input(\"Quant'è l'efficienza in km per litro?\"))"
   ]
  },
  {
   "cell_type": "code",
   "execution_count": 24,
   "id": "976f10c8-7b3e-43c7-80cf-33791fd3cfe2",
   "metadata": {},
   "outputs": [
    {
     "name": "stdin",
     "output_type": "stream",
     "text": [
      "Quant'è il prezzo della benzina per litro? 2\n"
     ]
    }
   ],
   "source": [
    "prezzo_benzina = int(input(\"Quant'è il prezzo della benzina per litro?\"))  "
   ]
  },
  {
   "cell_type": "code",
   "execution_count": 19,
   "id": "85eaf15b-3289-435d-ae19-bc6edc09a645",
   "metadata": {},
   "outputs": [],
   "source": [
    "distanza = 100"
   ]
  },
  {
   "cell_type": "code",
   "execution_count": 30,
   "id": "ccf09fc9-cb07-4147-abfd-ab59ffaae982",
   "metadata": {},
   "outputs": [],
   "source": [
    "consumo = distanza/efficienza"
   ]
  },
  {
   "cell_type": "code",
   "execution_count": 31,
   "id": "5e20d40d-18d0-4846-ae2f-6a968e90b036",
   "metadata": {},
   "outputs": [],
   "source": [
    "costo = (consumo*prezzo_benzina)"
   ]
  },
  {
   "cell_type": "code",
   "execution_count": 34,
   "id": "4fea1aae-27bc-4581-ab51-cf1370a5da23",
   "metadata": {},
   "outputs": [
    {
     "name": "stdout",
     "output_type": "stream",
     "text": [
      "Il costo per 100km dovrebbe essere:  16.666666666666668\n"
     ]
    }
   ],
   "source": [
    "print(\"Il costo per 100km dovrebbe essere: \", costo)"
   ]
  },
  {
   "cell_type": "code",
   "execution_count": 2,
   "id": "04ea0929-514b-4878-b17c-7c96e68e61af",
   "metadata": {},
   "outputs": [
    {
     "name": "stdin",
     "output_type": "stream",
     "text": [
      "Inserisci una stringa maglietta\n"
     ]
    }
   ],
   "source": [
    "input_utente = input(\"Inserisci una stringa\")#esercizio 7"
   ]
  },
  {
   "cell_type": "code",
   "execution_count": 5,
   "id": "2f0de88d-6492-4efe-83e4-150bca4a85c1",
   "metadata": {},
   "outputs": [],
   "source": [
    "output = input_utente[:3] + \"...\" + input_utente[-3:]"
   ]
  },
  {
   "cell_type": "code",
   "execution_count": 6,
   "id": "1a2aba6e-8ccf-4210-bcc2-1ba0cd857629",
   "metadata": {},
   "outputs": [
    {
     "name": "stdout",
     "output_type": "stream",
     "text": [
      "mag...tta\n"
     ]
    }
   ],
   "source": [
    "print(output)"
   ]
  },
  {
   "cell_type": "code",
   "execution_count": 53,
   "id": "8d35428a-7643-4464-978a-94d7b392b8fd",
   "metadata": {},
   "outputs": [],
   "source": [
    "stringa1 = \"Epicode\"   #esercizio 8\n",
    "stringa2 = \"Windows\"\n",
    "stringa3 = \"Excel\"\n",
    "stringa4 = \"Powerpoint\"\n",
    "stringa5 = \"Word\""
   ]
  },
  {
   "cell_type": "code",
   "execution_count": 66,
   "id": "28f019cb-e64d-4203-874a-7455687d8bec",
   "metadata": {},
   "outputs": [],
   "source": [
    "lunghezza_Epicode = len(stringa1)\n",
    "lunghezza_Windows = len(stringa2)\n",
    "lunghezza_Excel = len(stringa3)\n",
    "lunghezza_Powerpoint = len(stringa4)\n",
    "lunghezza_Word = len(stringa5)"
   ]
  },
  {
   "cell_type": "code",
   "execution_count": 69,
   "id": "24d767d6-2ed6-4127-8ccc-eb68b98e31fc",
   "metadata": {},
   "outputs": [
    {
     "data": {
      "text/plain": [
       "True"
      ]
     },
     "execution_count": 69,
     "metadata": {},
     "output_type": "execute_result"
    }
   ],
   "source": [
    "5<=lunghezza_Epicode<=8"
   ]
  },
  {
   "cell_type": "code",
   "execution_count": 70,
   "id": "34d562a0-b2e2-48c8-919b-0cc4ea7fb90c",
   "metadata": {},
   "outputs": [
    {
     "data": {
      "text/plain": [
       "True"
      ]
     },
     "execution_count": 70,
     "metadata": {},
     "output_type": "execute_result"
    }
   ],
   "source": [
    "5<=lunghezza_Windows<=8"
   ]
  },
  {
   "cell_type": "code",
   "execution_count": 71,
   "id": "98868103-94fb-43e1-a6f5-117d5c139583",
   "metadata": {},
   "outputs": [
    {
     "data": {
      "text/plain": [
       "True"
      ]
     },
     "execution_count": 71,
     "metadata": {},
     "output_type": "execute_result"
    }
   ],
   "source": [
    "5<=lunghezza_Excel<=8"
   ]
  },
  {
   "cell_type": "code",
   "execution_count": 73,
   "id": "a7e92477-8977-43fc-848b-cc80d8e6356e",
   "metadata": {},
   "outputs": [
    {
     "data": {
      "text/plain": [
       "False"
      ]
     },
     "execution_count": 73,
     "metadata": {},
     "output_type": "execute_result"
    }
   ],
   "source": [
    "5<=lunghezza_Powerpoint<=8"
   ]
  },
  {
   "cell_type": "code",
   "execution_count": 74,
   "id": "bcb1fd68-2825-4c95-840c-9e3b46ac2fc2",
   "metadata": {},
   "outputs": [
    {
     "data": {
      "text/plain": [
       "False"
      ]
     },
     "execution_count": 74,
     "metadata": {},
     "output_type": "execute_result"
    }
   ],
   "source": [
    "5<=lunghezza_Word<=8"
   ]
  },
  {
   "cell_type": "code",
   "execution_count": 76,
   "id": "9a8ece01-70bf-4d1d-9ff7-b65914673b17",
   "metadata": {},
   "outputs": [],
   "source": [
    "codici = [\"knt-S1\", \"cba-G9\", \"qtr-Z8\"] #esercizio 9"
   ]
  },
  {
   "cell_type": "code",
   "execution_count": 89,
   "id": "b29675d6-c412-4a11-b0c2-1bf6b4ddb71a",
   "metadata": {},
   "outputs": [
    {
     "name": "stdout",
     "output_type": "stream",
     "text": [
      "-S1\n"
     ]
    }
   ],
   "source": [
    "codice1 = codici[0].split(\"t\")\n",
    "codice1b = codice1[1]\n",
    "print (codice1b)"
   ]
  },
  {
   "cell_type": "code",
   "execution_count": 90,
   "id": "c844978e-9610-453a-8a22-85c00a20de0e",
   "metadata": {},
   "outputs": [
    {
     "name": "stdout",
     "output_type": "stream",
     "text": [
      "-G9\n"
     ]
    }
   ],
   "source": [
    "codice2 = codici[1].split(\"a\")\n",
    "codice2b = codice2[1]\n",
    "print (codice2b)"
   ]
  },
  {
   "cell_type": "code",
   "execution_count": 92,
   "id": "35d68793-ee20-4c8e-9ba9-329d27922b8d",
   "metadata": {},
   "outputs": [
    {
     "name": "stdout",
     "output_type": "stream",
     "text": [
      "-Z8\n"
     ]
    }
   ],
   "source": [
    "codice3 = codici[2].split(\"r\")\n",
    "codice3b = codice3[1]\n",
    "print (codice3b)"
   ]
  },
  {
   "cell_type": "code",
   "execution_count": 93,
   "id": "731c7de9-6b4e-4016-898b-f513c0eea52f",
   "metadata": {},
   "outputs": [],
   "source": [
    "codici = [\"knt-S1\", \"cba-G9\", \"qtr-Z8\"]  #esercizio 10\n",
    "codice1 = codici[0].split(\"t\")\n",
    "codice1b = codice1[1]\n",
    "codice2 = codici[1].split(\"a\")\n",
    "codice2b = codice2[1]\n",
    "codice3 = codici[2].split(\"r\")\n",
    "codice3b = codice3[1]"
   ]
  },
  {
   "cell_type": "code",
   "execution_count": 94,
   "id": "0d0cdf25-9d30-427e-9b42-89c47663fc04",
   "metadata": {},
   "outputs": [],
   "source": [
    "lista_parte_finale_codici = [codice1b, codice2b, codice3b]"
   ]
  },
  {
   "cell_type": "code",
   "execution_count": 95,
   "id": "dd20a409-cce8-4440-b3df-ece8a658d3f4",
   "metadata": {},
   "outputs": [
    {
     "name": "stdout",
     "output_type": "stream",
     "text": [
      "['-S1', '-G9', '-Z8']\n"
     ]
    }
   ],
   "source": [
    "print(lista_parte_finale_codici)"
   ]
  },
  {
   "cell_type": "code",
   "execution_count": 8,
   "id": "66e52d27-a1f0-4872-b92d-efa4f8c91789",
   "metadata": {},
   "outputs": [],
   "source": [
    "growth = {\"Tesla\", \"Shopify\", \"Block\", \"Etsy\", \"MercadoLibre\", \"Netflix\", \"Amazon\", \"Meta Platforms\", \"Salesforce\", \"Alphabet\"} #esercizio 11\n",
    "\n",
    "value = {\"Pfizer\", \"Johnson & Johnson\", \"JPMorgan Chase & Co.\", \"Wells Fargo & Co.\", \"Verizon Communications\", \"BP PLC\", \"LyondellBasell Industries\", \"MetLife\", \"Interactive Brokers Group\", \"Intel\"}\n",
    "\n",
    "tech = {\"Apple\", \"Microsoft\", \"Alphabet\", \"Amazon\", \"NVIDIA\", \"Meta Platforms\", \"Tesla\", \"Alibaba\", \"Salesforce\", \"Advanced Micro Devices\", \"Intel\", \"PayPal\", \"Activision Blizzard\", \"Electronic Arts\", \"The Trade Desk\", \"Zillow Group\", \"Match Group\", \"Yelp\"}\n",
    "\n",
    "healthcare = {\"UnitedHealth Group\", \"Johnson & Johnson\", \"Eli Lilly & Co.\", \"Novo Nordisk\", \"Merck & Co.\", \"Roche Holding\", \"Pfizer\", \"Thermo Fisher Scientific\", \"Abbott Laboratories\"}"
   ]
  },
  {
   "cell_type": "code",
   "execution_count": 18,
   "id": "af0a3aef-569d-45c5-99da-3856723f92fa",
   "metadata": {},
   "outputs": [
    {
     "name": "stdout",
     "output_type": "stream",
     "text": [
      "set()\n"
     ]
    }
   ],
   "source": [
    "print(growth & value)"
   ]
  },
  {
   "cell_type": "code",
   "execution_count": 11,
   "id": "374d3ce7-f71f-4f40-9229-89220fa164cd",
   "metadata": {},
   "outputs": [
    {
     "name": "stdout",
     "output_type": "stream",
     "text": [
      "{'Alphabet', 'Meta Platforms', 'Amazon', 'Tesla', 'Salesforce'}\n"
     ]
    }
   ],
   "source": [
    "print(tech & growth)"
   ]
  },
  {
   "cell_type": "code",
   "execution_count": 13,
   "id": "f32c10b5-9542-43af-b9f6-bbddb7873151",
   "metadata": {},
   "outputs": [
    {
     "name": "stdout",
     "output_type": "stream",
     "text": [
      "{'Apple', 'Pfizer', 'LyondellBasell Industries', 'Yelp', 'Alibaba', 'Johnson & Johnson', 'Intel', 'Advanced Micro Devices', 'Salesforce', 'NVIDIA', 'Interactive Brokers Group', 'Alphabet', 'Meta Platforms', 'Electronic Arts', 'Amazon', 'Match Group', 'MetLife', 'Wells Fargo & Co.', 'BP PLC', 'Zillow Group', 'JPMorgan Chase & Co.', 'PayPal', 'Microsoft', 'The Trade Desk', 'Verizon Communications', 'Activision Blizzard', 'Tesla'}\n"
     ]
    }
   ],
   "source": [
    "print(tech.union (value))"
   ]
  },
  {
   "cell_type": "code",
   "execution_count": 20,
   "id": "3d862224-fb24-43ba-818e-da151425e372",
   "metadata": {},
   "outputs": [
    {
     "name": "stdout",
     "output_type": "stream",
     "text": [
      "{'Thermo Fisher Scientific', 'UnitedHealth Group', 'Merck & Co.', 'Eli Lilly & Co.', 'Abbott Laboratories', 'Roche Holding', 'Novo Nordisk'}\n"
     ]
    }
   ],
   "source": [
    "print(healthcare - value)"
   ]
  },
  {
   "cell_type": "code",
   "execution_count": 16,
   "id": "156b9ff7-17a7-4762-bba1-c891a1923647",
   "metadata": {},
   "outputs": [
    {
     "name": "stdout",
     "output_type": "stream",
     "text": [
      "set()\n"
     ]
    }
   ],
   "source": [
    "print(tech & healthcare)"
   ]
  },
  {
   "cell_type": "code",
   "execution_count": 24,
   "id": "53d4349b-44ce-4655-927b-92bce1c6a174",
   "metadata": {},
   "outputs": [
    {
     "name": "stdout",
     "output_type": "stream",
     "text": [
      "{'Salesforce', 'Alphabet', 'Meta Platforms', 'Intel', 'Amazon', 'Tesla'}\n"
     ]
    }
   ],
   "source": [
    "print(  (tech & growth) | (tech & value)  )"
   ]
  }
 ],
 "metadata": {
  "kernelspec": {
   "display_name": "Python 3 (ipykernel)",
   "language": "python",
   "name": "python3"
  },
  "language_info": {
   "codemirror_mode": {
    "name": "ipython",
    "version": 3
   },
   "file_extension": ".py",
   "mimetype": "text/x-python",
   "name": "python",
   "nbconvert_exporter": "python",
   "pygments_lexer": "ipython3",
   "version": "3.10.9"
  }
 },
 "nbformat": 4,
 "nbformat_minor": 5
}
